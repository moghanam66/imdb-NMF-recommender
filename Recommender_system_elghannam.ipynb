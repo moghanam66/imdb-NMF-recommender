{
  "nbformat": 4,
  "nbformat_minor": 0,
  "metadata": {
    "colab": {
      "name": "Recommender_system_elghannam.ipynb",
      "provenance": [],
      "collapsed_sections": []
    },
    "kernelspec": {
      "name": "python3",
      "display_name": "Python 3"
    },
    "language_info": {
      "name": "python"
    }
  },
  "cells": [
    {
      "cell_type": "code",
      "metadata": {
        "colab": {
          "base_uri": "https://localhost:8080/"
        },
        "id": "xWiqYE_QhYLV",
        "outputId": "09420246-0386-4d16-8de7-e9ef89354b5e"
      },
      "source": [
        "pip install scikit-surprise\n"
      ],
      "execution_count": 1,
      "outputs": [
        {
          "output_type": "stream",
          "name": "stdout",
          "text": [
            "Collecting scikit-surprise\n",
            "  Downloading scikit-surprise-1.1.1.tar.gz (11.8 MB)\n",
            "\u001b[K     |████████████████████████████████| 11.8 MB 14.1 MB/s \n",
            "\u001b[?25hRequirement already satisfied: joblib>=0.11 in /usr/local/lib/python3.7/dist-packages (from scikit-surprise) (1.0.1)\n",
            "Requirement already satisfied: numpy>=1.11.2 in /usr/local/lib/python3.7/dist-packages (from scikit-surprise) (1.19.5)\n",
            "Requirement already satisfied: scipy>=1.0.0 in /usr/local/lib/python3.7/dist-packages (from scikit-surprise) (1.4.1)\n",
            "Requirement already satisfied: six>=1.10.0 in /usr/local/lib/python3.7/dist-packages (from scikit-surprise) (1.15.0)\n",
            "Building wheels for collected packages: scikit-surprise\n",
            "  Building wheel for scikit-surprise (setup.py) ... \u001b[?25l\u001b[?25hdone\n",
            "  Created wheel for scikit-surprise: filename=scikit_surprise-1.1.1-cp37-cp37m-linux_x86_64.whl size=1619437 sha256=933c410b5deb1c50d63485837b137dea46103f619252977ce909e66f8612fd91\n",
            "  Stored in directory: /root/.cache/pip/wheels/76/44/74/b498c42be47b2406bd27994e16c5188e337c657025ab400c1c\n",
            "Successfully built scikit-surprise\n",
            "Installing collected packages: scikit-surprise\n",
            "Successfully installed scikit-surprise-1.1.1\n"
          ]
        }
      ]
    },
    {
      "cell_type": "code",
      "metadata": {
        "id": "qODH833SeITj"
      },
      "source": [
        "import pandas as pd\n",
        "import numpy as np\n",
        "import matplotlib.pyplot as plt\n",
        "import seaborn as sns\n",
        "from collections import defaultdict #data colector\n",
        "import surprise\n",
        "from surprise.reader import Reader\n",
        "from surprise import Dataset\n",
        "from surprise.model_selection import GridSearchCV\n",
        "from surprise.model_selection import cross_validate\n",
        "\n",
        "from surprise import SVD\n",
        "from surprise import NMF"
      ],
      "execution_count": 2,
      "outputs": []
    },
    {
      "cell_type": "code",
      "metadata": {
        "colab": {
          "base_uri": "https://localhost:8080/"
        },
        "id": "jTWfwao6hj61",
        "outputId": "8d92512c-0662-42ba-a2ee-a36655d00fcf"
      },
      "source": [
        "from io import BytesIO\n",
        "from zipfile import ZipFile\n",
        "from urllib.request import urlopen\n",
        "\n",
        "r = urlopen(\"http://files.grouplens.org/datasets/movielens/ml-latest-small.zip\")\n",
        "zipfile = ZipFile(BytesIO(r.read()))\n",
        "\n",
        "#print the content of zipfile\n",
        "zipfile.namelist()"
      ],
      "execution_count": 3,
      "outputs": [
        {
          "output_type": "execute_result",
          "data": {
            "text/plain": [
              "['ml-latest-small/',\n",
              " 'ml-latest-small/links.csv',\n",
              " 'ml-latest-small/tags.csv',\n",
              " 'ml-latest-small/ratings.csv',\n",
              " 'ml-latest-small/README.txt',\n",
              " 'ml-latest-small/movies.csv']"
            ]
          },
          "metadata": {},
          "execution_count": 3
        }
      ]
    },
    {
      "cell_type": "code",
      "metadata": {
        "colab": {
          "base_uri": "https://localhost:8080/"
        },
        "id": "dm_ElNW0hxM8",
        "outputId": "7514fed1-d2fa-4ffe-e12e-0a8daaa5aeda"
      },
      "source": [
        "# tidy df ratings (movieId,)\n",
        "ratings_df = pd.read_csv(zipfile.open('ml-latest-small/ratings.csv'))\n",
        "print('Columns of ratings_df: {0}'.format(ratings_df.columns))\n",
        "\n",
        "#movies df (tidy data)\n",
        "movies_df = pd.read_csv(zipfile.open('ml-latest-small/movies.csv'))\n",
        "print('Columns of movies_df: {0}'.format(movies_df.columns))"
      ],
      "execution_count": 4,
      "outputs": [
        {
          "output_type": "stream",
          "name": "stdout",
          "text": [
            "Columns of ratings_df: Index(['userId', 'movieId', 'rating', 'timestamp'], dtype='object')\n",
            "Columns of movies_df: Index(['movieId', 'title', 'genres'], dtype='object')\n"
          ]
        }
      ]
    },
    {
      "cell_type": "code",
      "metadata": {
        "colab": {
          "base_uri": "https://localhost:8080/"
        },
        "id": "RCbyUdXMiO0d",
        "outputId": "07b2f80b-a309-4239-c1b9-fd667f953c8b"
      },
      "source": [
        "#ratings\n",
        "print(ratings_df.head())\n",
        "\n",
        "print(ratings_df.info())\n",
        "\n",
        "print(ratings_df.describe())"
      ],
      "execution_count": 5,
      "outputs": [
        {
          "output_type": "stream",
          "name": "stdout",
          "text": [
            "   userId  movieId  rating  timestamp\n",
            "0       1        1     4.0  964982703\n",
            "1       1        3     4.0  964981247\n",
            "2       1        6     4.0  964982224\n",
            "3       1       47     5.0  964983815\n",
            "4       1       50     5.0  964982931\n",
            "<class 'pandas.core.frame.DataFrame'>\n",
            "RangeIndex: 100836 entries, 0 to 100835\n",
            "Data columns (total 4 columns):\n",
            " #   Column     Non-Null Count   Dtype  \n",
            "---  ------     --------------   -----  \n",
            " 0   userId     100836 non-null  int64  \n",
            " 1   movieId    100836 non-null  int64  \n",
            " 2   rating     100836 non-null  float64\n",
            " 3   timestamp  100836 non-null  int64  \n",
            "dtypes: float64(1), int64(3)\n",
            "memory usage: 3.1 MB\n",
            "None\n",
            "              userId        movieId         rating     timestamp\n",
            "count  100836.000000  100836.000000  100836.000000  1.008360e+05\n",
            "mean      326.127564   19435.295718       3.501557  1.205946e+09\n",
            "std       182.618491   35530.987199       1.042529  2.162610e+08\n",
            "min         1.000000       1.000000       0.500000  8.281246e+08\n",
            "25%       177.000000    1199.000000       3.000000  1.019124e+09\n",
            "50%       325.000000    2991.000000       3.500000  1.186087e+09\n",
            "75%       477.000000    8122.000000       4.000000  1.435994e+09\n",
            "max       610.000000  193609.000000       5.000000  1.537799e+09\n"
          ]
        }
      ]
    },
    {
      "cell_type": "code",
      "metadata": {
        "colab": {
          "base_uri": "https://localhost:8080/"
        },
        "id": "sK5Lob1wiYYl",
        "outputId": "faa6610a-a9ce-4e22-842d-0390ace6e51a"
      },
      "source": [
        "#movies\n",
        "print(movies_df.head())\n",
        "\n",
        "print(movies_df.info())\n",
        "\n",
        "print(movies_df.describe())"
      ],
      "execution_count": 6,
      "outputs": [
        {
          "output_type": "stream",
          "name": "stdout",
          "text": [
            "   movieId  ...                                       genres\n",
            "0        1  ...  Adventure|Animation|Children|Comedy|Fantasy\n",
            "1        2  ...                   Adventure|Children|Fantasy\n",
            "2        3  ...                               Comedy|Romance\n",
            "3        4  ...                         Comedy|Drama|Romance\n",
            "4        5  ...                                       Comedy\n",
            "\n",
            "[5 rows x 3 columns]\n",
            "<class 'pandas.core.frame.DataFrame'>\n",
            "RangeIndex: 9742 entries, 0 to 9741\n",
            "Data columns (total 3 columns):\n",
            " #   Column   Non-Null Count  Dtype \n",
            "---  ------   --------------  ----- \n",
            " 0   movieId  9742 non-null   int64 \n",
            " 1   title    9742 non-null   object\n",
            " 2   genres   9742 non-null   object\n",
            "dtypes: int64(1), object(2)\n",
            "memory usage: 228.5+ KB\n",
            "None\n",
            "             movieId\n",
            "count    9742.000000\n",
            "mean    42200.353623\n",
            "std     52160.494854\n",
            "min         1.000000\n",
            "25%      3248.250000\n",
            "50%      7300.000000\n",
            "75%     76232.000000\n",
            "max    193609.000000\n"
          ]
        }
      ]
    },
    {
      "cell_type": "code",
      "metadata": {
        "id": "lSOq2xsaiyyk",
        "colab": {
          "base_uri": "https://localhost:8080/"
        },
        "outputId": "dde98509-f5e0-41ae-ebb6-1d33eadae4b6"
      },
      "source": [
        "#movies\n",
        "print(movies_df.head())"
      ],
      "execution_count": 7,
      "outputs": [
        {
          "output_type": "stream",
          "name": "stdout",
          "text": [
            "   movieId  ...                                       genres\n",
            "0        1  ...  Adventure|Animation|Children|Comedy|Fantasy\n",
            "1        2  ...                   Adventure|Children|Fantasy\n",
            "2        3  ...                               Comedy|Romance\n",
            "3        4  ...                         Comedy|Drama|Romance\n",
            "4        5  ...                                       Comedy\n",
            "\n",
            "[5 rows x 3 columns]\n"
          ]
        }
      ]
    },
    {
      "cell_type": "markdown",
      "metadata": {
        "id": "hJNJFOzJKXtN"
      },
      "source": [
        "Data Pre-Processing\n",
        "\n",
        "Filtering Data Set\n",
        "\n",
        "Firstly, it is essential to filter out movies and users with low exposure to remove some of the noise from outliers. According to the official MovieLens documentation, all selected users have rated at least 20 movies in the data set. However, the following code filters out the movies and users based on an arbitrary threshold and creates a new data frame ratings_flrd_df. Moreover, the chunk also prints the value of deleted movies with new and old dimensions."
      ]
    },
    {
      "cell_type": "code",
      "metadata": {
        "colab": {
          "base_uri": "https://localhost:8080/",
          "height": 35
        },
        "id": "AjUcQo7HKTIC",
        "outputId": "340fb205-9118-4845-d5fa-3b81fa5b515a"
      },
      "source": [
        "min_movie_ratings = 2 #a movie has was rated at least \n",
        "min_user_ratings =  5 #a user rated movies at least\n",
        "\n",
        "\n",
        "ratings_flrd_df = ratings_df.groupby(\"movieId\").filter(lambda x: x['movieId'].count() >= min_movie_ratings)\n",
        "ratings_flrd_df = ratings_flrd_df.groupby(\"userId\").filter(lambda x: x['userId'].count() >= min_user_ratings)\n",
        "\n",
        "\n",
        "\n",
        "\"{0} movies deleted; all movies are now rated at least: {1} times. Old dimensions: {2}; New dimensions: {3}\"\\\n",
        ".format(len(ratings_df.movieId.value_counts()) - len(ratings_flrd_df.movieId.value_counts())\\\n",
        "        ,min_movie_ratings,ratings_df.shape, ratings_flrd_df.shape )"
      ],
      "execution_count": 8,
      "outputs": [
        {
          "output_type": "execute_result",
          "data": {
            "application/vnd.google.colaboratory.intrinsic+json": {
              "type": "string"
            },
            "text/plain": [
              "'3446 movies deleted; all movies are now rated at least: 2 times. Old dimensions: (100836, 4); New dimensions: (97390, 4)'"
            ]
          },
          "metadata": {},
          "execution_count": 8
        }
      ]
    },
    {
      "cell_type": "markdown",
      "metadata": {
        "id": "s5-xLGerKucG"
      },
      "source": [
        "Data Loading\n",
        "\n",
        "While using Surprise, one can use a bunch of built-in datasets (e.g. Jeseter or even the movielens) parsed by Dataset module. However, it is usually required to build a customized recommender system. In a case as such, it is necessary to upload your own rating dataset either from a file (e.g. csv) or from a pandas' dataframe. In both cases, you need to define a Reader object to parse the file or the dataframe by Surprise. See the reference here.\n",
        "\n",
        "In the next step, one must load the data set through the call of a particular method of surprise.Dataset. Specifically, load_from_file() loads a csv file. Surprise also allows to upload pandas' DataFrame. This time, it is required to upload the data frame with ratings by user per movie (i.e. in the tidy format) with Dataset.load_from_df and specify reader as the argument.\n",
        "\n",
        "Lastly, build_full_trainset() method builds the training set from the entire data set. As demonstrated later, training on the whole data while using the best hyper tuning parameters is useful for the prediction of top arbitrary number of movies for each userId."
      ]
    },
    {
      "cell_type": "code",
      "metadata": {
        "id": "pzPtyb1YKtZY"
      },
      "source": [
        "reader = Reader(rating_scale=(0.5, 5)) #line_format by default order of the fields\n",
        "data = Dataset.load_from_df(ratings_flrd_df[[\"userId\",\t\"movieId\",\t\"rating\"]], reader=reader)\n",
        "\n",
        "trainset = data.build_full_trainset()\n",
        "\n",
        "testset = trainset.build_anti_testset()\n"
      ],
      "execution_count": 9,
      "outputs": []
    },
    {
      "cell_type": "markdown",
      "metadata": {
        "id": "h5pTFTHPLOkn"
      },
      "source": [
        "Number of Factors and RMSE\n",
        "\n",
        "For the demonstrative purpose, let's examine the effect of number of latent factors k on the model's performance. Specifically, it is possible to visually observe the effect of multiple factors on error measurement. As in supervised machine learning, cross_validate computes the error rate for each fold. The following function computes the average of RMSE given by the five folds and append the empty list rmse_svd. Consequently, the list contains 100 measures of min RMSE given 100 consecutive values of k in each test set, and by five folds in every iteration."
      ]
    },
    {
      "cell_type": "code",
      "metadata": {
        "id": "ymWA-bB_LCbu"
      },
      "source": [
        "def rmse_vs_factors(algorithm, data):\n",
        "  \"\"\"Returns: rmse_algorithm i.e. a list of mean RMSE of CV = 5 in cross_validate() for each  factor k in range(1, 101, 1)\n",
        "  100 values \n",
        "  Arg:  i.) algorithm = Matrix factoization algorithm, e.g SVD/NMF/PMF, ii.)  data = surprise.dataset.DatasetAutoFolds\n",
        "  \"\"\"\n",
        "  \n",
        "  rmse_algorithm = []\n",
        "  \n",
        "  for k in range(1, 101, 1):\n",
        "    algo = algorithm(n_factors = k)\n",
        "    \n",
        "    #[\"test_rmse\"] is a numpy array with min accuracy value for each testset\n",
        "    loss_fce = cross_validate(algo, data, measures=['RMSE'], cv=5, verbose=False)[\"test_rmse\"].mean() \n",
        "    rmse_algorithm.append(loss_fce)\n",
        "  \n",
        "  return rmse_algorithm"
      ],
      "execution_count": 10,
      "outputs": []
    },
    {
      "cell_type": "markdown",
      "metadata": {
        "id": "YzhVrASDLXGN"
      },
      "source": [
        "To replicate the plot of performance for each subsequent model, the following chunk defines the function plot_rmse() with two arguments where rmse is a list of float values and algorithm is an instantiated matrix factorization model. The function returns a plot with two line subplots that display performance vs. numbers of factors. The second subplot only zooms in and marks k with the best performance, i.e. the minimum RMSE."
      ]
    },
    {
      "cell_type": "code",
      "metadata": {
        "id": "LQGNfyd5LZ1I"
      },
      "source": [
        "def plot_rmse(rmse, algorithm):\n",
        "  \"\"\"Returns: sub plots (2x1) of rmse against number of factors. \n",
        "     Vertical line in the second subplot identifies the arg for minimum RMSE\n",
        "    \n",
        "     Arg: i.) rmse = list of mean RMSE returned by rmse_vs_factors(), ii.) algorithm = STRING! of algo \n",
        "  \"\"\"\n",
        "  \n",
        "  plt.figure(num=None, figsize=(11, 5), dpi=80, facecolor='w', edgecolor='k')\n",
        "\n",
        "  plt.subplot(2,1,1)\n",
        "  plt.plot(rmse)\n",
        "  plt.xlim(0,100)\n",
        "  plt.title(\"{0} Performance: RMSE Against Number of Factors\".format(algorithm), size = 20 )\n",
        "  plt.ylabel(\"Mean RMSE (cv=5)\")\n",
        "\n",
        "  plt.subplot(2,1,2)\n",
        "  plt.plot(rmse)\n",
        "  plt.xlim(0,50)\n",
        "  plt.xticks(np.arange(0, 52, step=2))\n",
        "\n",
        "  plt.xlabel(\"{0}(n_factor = k)\".format(algorithm))\n",
        "  plt.ylabel(\"Mean RMSE (cv=5)\")\n",
        "  plt.axvline(np.argmin(rmse), color = \"r\")"
      ],
      "execution_count": 11,
      "outputs": []
    },
    {
      "cell_type": "code",
      "metadata": {
        "id": "m4tN7Eg4LsGE"
      },
      "source": [
        "def get_top_n(predictions, userId, movies_df, ratings_df, n = 10):\n",
        "    '''Return the top N (default) movieId for a user,.i.e. userID and history for comparisom\n",
        "    Args:\n",
        "    Returns: \n",
        "  \n",
        "    '''\n",
        "    #Peart I.: Surprise docomuntation\n",
        "    \n",
        "    #1. First map the predictions to each user.\n",
        "    top_n = defaultdict(list)\n",
        "    for uid, iid, true_r, est, _ in predictions:\n",
        "        top_n[uid].append((iid, est))\n",
        "\n",
        "    #2. Then sort the predictions for each user and retrieve the k highest ones.\n",
        "    for uid, user_ratings in top_n.items():\n",
        "        user_ratings.sort(key = lambda x: x[1], reverse = True)\n",
        "        top_n[uid] = user_ratings[: n ]\n",
        "    \n",
        "    #Part II.: inspired by: https://beckernick.github.io/matrix-factorization-recommender/\n",
        "    \n",
        "    #3. Tells how many movies the user has already rated\n",
        "    user_data = ratings_df[ratings_df.userId == (userId)]\n",
        "    print('User {0} has already rated {1} movies.'.format(userId, user_data.shape[0]))\n",
        "\n",
        "    \n",
        "    #4. Data Frame with predictions. \n",
        "    preds_df = pd.DataFrame([(id, pair[0],pair[1]) for id, row in top_n.items() for pair in row],\n",
        "                        columns=[\"userId\" ,\"movieId\",\"rat_pred\"])\n",
        "    \n",
        "    \n",
        "    #5. Return pred_usr, i.e. top N recommended movies with (merged) titles and genres. \n",
        "    pred_usr = preds_df[preds_df[\"userId\"] == (userId)].merge(movies_df, how = 'left', left_on = 'movieId', right_on = 'movieId')\n",
        "            \n",
        "    #6. Return hist_usr, i.e. top N historically rated movies with (merged) titles and genres for holistic evaluation\n",
        "    hist_usr = ratings_df[ratings_df.userId == (userId) ].sort_values(\"rating\", ascending = False).merge\\\n",
        "    (movies_df, how = 'left', left_on = 'movieId', right_on = 'movieId')\n",
        "    \n",
        "    \n",
        "    return hist_usr, pred_usr"
      ],
      "execution_count": 12,
      "outputs": []
    },
    {
      "cell_type": "markdown",
      "metadata": {
        "id": "5N75Co-XL0q1"
      },
      "source": [
        "Non-Negative Matrix Factorization (NMF)"
      ]
    },
    {
      "cell_type": "code",
      "metadata": {
        "id": "Iw6tOht2LvHd"
      },
      "source": [
        "rmse_nmf = rmse_vs_factors(NMF, data)\n"
      ],
      "execution_count": 13,
      "outputs": []
    },
    {
      "cell_type": "code",
      "metadata": {
        "colab": {
          "base_uri": "https://localhost:8080/",
          "height": 390
        },
        "id": "ssLPzTDVexi3",
        "outputId": "8c10e49d-1926-4db8-83d7-1665325a5371"
      },
      "source": [
        "plot_rmse(rmse_nmf, \"NMF\")\n"
      ],
      "execution_count": 14,
      "outputs": [
        {
          "output_type": "display_data",
          "data": {
            "image/png": "[encoded data removed]",
            "text/plain": [
              "<Figure size 880x400 with 2 Axes>"
            ]
          },
          "metadata": {}
        }
      ]
    },
    {
      "cell_type": "code",
      "metadata": {
        "colab": {
          "base_uri": "https://localhost:8080/"
        },
        "id": "rWdczpd6e44u",
        "outputId": "bff94bcf-39a7-437d-87cc-4db721a6b440"
      },
      "source": [
        "param_grid = {'n_factors': [11,14,15,16,17,18,20]}\n",
        "gs = GridSearchCV(NMF, param_grid, measures=['rmse'], cv=5)\n",
        "gs.fit(data)\n",
        "\n",
        "\n",
        "\n",
        "# best RMSE score\n",
        "print(gs.best_score['rmse'])\n",
        "\n",
        "# combination of parameters that gave the best RMSE score\n",
        "print(gs.best_params['rmse'])"
      ],
      "execution_count": 15,
      "outputs": [
        {
          "output_type": "stream",
          "name": "stdout",
          "text": [
            "0.9104064956353655\n",
            "{'n_factors': 16}\n"
          ]
        }
      ]
    },
    {
      "cell_type": "code",
      "metadata": {
        "id": "cI-4QSZ7fr_J"
      },
      "source": [
        "algo_NMF = NMF(n_factors = 16)\n",
        "algo_NMF.fit(trainset)\n",
        "\n",
        "\n",
        "# Predict ratings for all pairs (u, i) that are NOT in the training set.\n",
        "testset = trainset.build_anti_testset()\n",
        "predictions = algo_NMF.test(testset)"
      ],
      "execution_count": 16,
      "outputs": []
    },
    {
      "cell_type": "code",
      "metadata": {
        "colab": {
          "base_uri": "https://localhost:8080/"
        },
        "id": "yjvV08qjf9nt",
        "outputId": "92280dce-2459-4802-d81c-bbf420c8f77b"
      },
      "source": [
        "hist_NMF_124, pred_NMF_124 = get_top_n(predictions, movies_df = movies_df, userId = 124, ratings_df = ratings_df)"
      ],
      "execution_count": 27,
      "outputs": [
        {
          "output_type": "stream",
          "name": "stdout",
          "text": [
            "User 124 has already rated 50 movies.\n"
          ]
        }
      ]
    },
    {
      "cell_type": "code",
      "metadata": {
        "colab": {
          "base_uri": "https://localhost:8080/",
          "height": 357
        },
        "id": "mn8uFmFggywT",
        "outputId": "2c6bf498-2fb0-4a3c-b063-f044c0149099"
      },
      "source": [
        "pred_NMF_124\n"
      ],
      "execution_count": 28,
      "outputs": [
        {
          "output_type": "execute_result",
          "data": {
            "text/html": [
              "<div>\n",
              "<style scoped>\n",
              "    .dataframe tbody tr th:only-of-type {\n",
              "        vertical-align: middle;\n",
              "    }\n",
              "\n",
              "    .dataframe tbody tr th {\n",
              "        vertical-align: top;\n",
              "    }\n",
              "\n",
              "    .dataframe thead th {\n",
              "        text-align: right;\n",
              "    }\n",
              "</style>\n",
              "<table border=\"1\" class=\"dataframe\">\n",
              "  <thead>\n",
              "    <tr style=\"text-align: right;\">\n",
              "      <th></th>\n",
              "      <th>userId</th>\n",
              "      <th>movieId</th>\n",
              "      <th>rat_pred</th>\n",
              "      <th>title</th>\n",
              "      <th>genres</th>\n",
              "    </tr>\n",
              "  </thead>\n",
              "  <tbody>\n",
              "    <tr>\n",
              "      <th>0</th>\n",
              "      <td>124</td>\n",
              "      <td>2959</td>\n",
              "      <td>5.0</td>\n",
              "      <td>Fight Club (1999)</td>\n",
              "      <td>Action|Crime|Drama|Thriller</td>\n",
              "    </tr>\n",
              "    <tr>\n",
              "      <th>1</th>\n",
              "      <td>124</td>\n",
              "      <td>8207</td>\n",
              "      <td>5.0</td>\n",
              "      <td>Day of the Jackal, The (1973)</td>\n",
              "      <td>Crime|Thriller</td>\n",
              "    </tr>\n",
              "    <tr>\n",
              "      <th>2</th>\n",
              "      <td>124</td>\n",
              "      <td>187</td>\n",
              "      <td>5.0</td>\n",
              "      <td>Party Girl (1995)</td>\n",
              "      <td>Comedy</td>\n",
              "    </tr>\n",
              "    <tr>\n",
              "      <th>3</th>\n",
              "      <td>124</td>\n",
              "      <td>1148</td>\n",
              "      <td>5.0</td>\n",
              "      <td>Wallace &amp; Gromit: The Wrong Trousers (1993)</td>\n",
              "      <td>Animation|Children|Comedy|Crime</td>\n",
              "    </tr>\n",
              "    <tr>\n",
              "      <th>4</th>\n",
              "      <td>124</td>\n",
              "      <td>1245</td>\n",
              "      <td>5.0</td>\n",
              "      <td>Miller's Crossing (1990)</td>\n",
              "      <td>Crime|Drama|Film-Noir|Thriller</td>\n",
              "    </tr>\n",
              "    <tr>\n",
              "      <th>5</th>\n",
              "      <td>124</td>\n",
              "      <td>53129</td>\n",
              "      <td>5.0</td>\n",
              "      <td>Mr. Brooks (2007)</td>\n",
              "      <td>Crime|Drama|Thriller</td>\n",
              "    </tr>\n",
              "    <tr>\n",
              "      <th>6</th>\n",
              "      <td>124</td>\n",
              "      <td>56782</td>\n",
              "      <td>5.0</td>\n",
              "      <td>There Will Be Blood (2007)</td>\n",
              "      <td>Drama|Western</td>\n",
              "    </tr>\n",
              "    <tr>\n",
              "      <th>7</th>\n",
              "      <td>124</td>\n",
              "      <td>1262</td>\n",
              "      <td>5.0</td>\n",
              "      <td>Great Escape, The (1963)</td>\n",
              "      <td>Action|Adventure|Drama|War</td>\n",
              "    </tr>\n",
              "    <tr>\n",
              "      <th>8</th>\n",
              "      <td>124</td>\n",
              "      <td>3451</td>\n",
              "      <td>5.0</td>\n",
              "      <td>Guess Who's Coming to Dinner (1967)</td>\n",
              "      <td>Drama</td>\n",
              "    </tr>\n",
              "    <tr>\n",
              "      <th>9</th>\n",
              "      <td>124</td>\n",
              "      <td>5747</td>\n",
              "      <td>5.0</td>\n",
              "      <td>Gallipoli (1981)</td>\n",
              "      <td>Drama|War</td>\n",
              "    </tr>\n",
              "  </tbody>\n",
              "</table>\n",
              "</div>"
            ],
            "text/plain": [
              "   userId  ...                           genres\n",
              "0     124  ...      Action|Crime|Drama|Thriller\n",
              "1     124  ...                   Crime|Thriller\n",
              "2     124  ...                           Comedy\n",
              "3     124  ...  Animation|Children|Comedy|Crime\n",
              "4     124  ...   Crime|Drama|Film-Noir|Thriller\n",
              "5     124  ...             Crime|Drama|Thriller\n",
              "6     124  ...                    Drama|Western\n",
              "7     124  ...       Action|Adventure|Drama|War\n",
              "8     124  ...                            Drama\n",
              "9     124  ...                        Drama|War\n",
              "\n",
              "[10 rows x 5 columns]"
            ]
          },
          "metadata": {},
          "execution_count": 28
        }
      ]
    }
  ]
}